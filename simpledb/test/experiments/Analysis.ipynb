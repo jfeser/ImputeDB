{
 "cells": [
  {
   "cell_type": "code",
   "execution_count": null,
   "metadata": {
    "collapsed": false
   },
   "outputs": [],
   "source": [
    "%autosave 0\n",
    "from datetime import date\n",
    "import os"
   ]
  },
  {
   "cell_type": "code",
   "execution_count": null,
   "metadata": {
    "collapsed": false
   },
   "outputs": [],
   "source": [
    "import pandas as pd\n",
    "import numpy as np\n",
    "import seaborn as sns\n",
    "import matplotlib\n",
    "import matplotlib.pyplot as plt\n",
    "%matplotlib inline\n",
    "plt.style.use(['seaborn-white', 'seaborn-paper'])\n",
    "matplotlib.rc(\"font\",size=22)"
   ]
  },
  {
   "cell_type": "code",
   "execution_count": null,
   "metadata": {
    "collapsed": false
   },
   "outputs": [],
   "source": [
    "!ls output/mean/analysis"
   ]
  },
  {
   "cell_type": "code",
   "execution_count": null,
   "metadata": {
    "collapsed": false
   },
   "outputs": [],
   "source": [
    "# Load data\n",
    "def load_data(kind, name, subdir=\"\"):\n",
    "    df = pd.read_csv(os.path.join(\"output\", subdir, \"{}_{}_1.csv\".format(kind, name)), index_col=0)\n",
    "    return df\n",
    "\n",
    "nqueries = 9\n",
    "times = {}\n",
    "for method in [\"mean\", \"hot_deck\", \"regression_tree\"]:\n",
    "    subdir = os.path.join(method, \"analysis\")\n",
    "    times[method] = {}\n",
    "    for scale in [\"imputedb\", \"base_tables\"]:\n",
    "        times[method][scale] = load_data(\"running_times\", scale, subdir)\n",
    "        \n",
    "    times[method][\"combined\"] = times[method][\"base_tables\"].append(times[method][\"imputedb\"])"
   ]
  },
  {
   "cell_type": "code",
   "execution_count": null,
   "metadata": {
    "collapsed": true
   },
   "outputs": [],
   "source": [
    "# Round alpha to nearest 0.05\n",
    "def round_alpha(alpha):\n",
    "    if alpha == \"Impute at base tables\":\n",
    "        return \"Impute at base tables\"\n",
    "    else:\n",
    "        return round(alpha * 100 / 5) / (100 / 5)\n",
    "    \n",
    "for method in [\"mean\", \"hot_deck\", \"regression_tree\"]:\n",
    "    for scale in [\"imputedb\", \"base_tables\", \"combined\"]:\n",
    "        times[method][scale][\"alpha\"] = times[method][scale][\"alpha\"].apply(round_alpha)"
   ]
  },
  {
   "cell_type": "code",
   "execution_count": null,
   "metadata": {
    "collapsed": false
   },
   "outputs": [],
   "source": [
    "times[\"regression_tree\"][\"base_tables\"].head()"
   ]
  },
  {
   "cell_type": "code",
   "execution_count": null,
   "metadata": {
    "collapsed": false
   },
   "outputs": [],
   "source": [
    "times[\"regression_tree\"][\"imputedb\"].head()"
   ]
  },
  {
   "cell_type": "code",
   "execution_count": null,
   "metadata": {
    "collapsed": false
   },
   "outputs": [],
   "source": [
    "def plot(times, method):\n",
    "    df = times[method][\"combined\"].copy()\n",
    "    kind = \"running_times\"\n",
    "    name = \"combined\"\n",
    "    \n",
    "    # plots\n",
    "    xticks = range(0, nqueries)\n",
    "    xlabels = [\"%i\" % (q + 1) for q in xticks]\n",
    "    \n",
    "    f = plt.figure()\n",
    "\n",
    "    df = df.pivot(index=\"query\",columns=\"alpha\",values=\"mean\")\n",
    "    df = df[[\"Impute at base tables\",0.0,0.5,1.0]]\n",
    "    df = df.rename(columns={\n",
    "        0.0: r\"$\\alpha = 0.0$\",\n",
    "        0.5: r\"$\\alpha = 0.5$\",\n",
    "        1.0: r\"$\\alpha=1.0$\",\n",
    "        \"Impute at base tables\" : \"Baseline\"\n",
    "    })\n",
    "    ax = df.plot(kind=\"bar\")\n",
    "    ax.set_yscale(\"log\")\n",
    "    ax.set_ylim(bottom=0.99, top=10e5-0.1)\n",
    "    ax.legend(title=None, loc=\"upper left\", fontsize=14, ncol=2)\n",
    "    ax.title.set_fontsize(16)\n",
    "\n",
    "    xticks = range(0, len(df))\n",
    "    xlabels = [\"%i\" % (q + 1) for q in xticks]\n",
    "    plt.xlim(xticks[0] - 1, xticks[-1] + 1)\n",
    "    plt.xticks(xticks, xlabels, rotation=0)\n",
    "\n",
    "    plt.xlabel(\"Query\")\n",
    "    plt.ylabel(\"Running Time (ms)\")\n",
    "\n",
    "    for item in ([ax.xaxis.label, ax.yaxis.label] +\n",
    "                 ax.get_xticklabels() + ax.get_yticklabels()):\n",
    "        item.set_fontsize(12)\n",
    "\n",
    "    dt = date.today().isoformat()\n",
    "    nm = os.path.join(\"output/{}\".format(method), \"{}_{}_bar_{}_{}\".format(kind, name, method, dt))\n",
    "    plt.savefig(nm + \".png\", bbox_inches=\"tight\")\n",
    "    plt.savefig(nm + \".eps\", bbox_inches=\"tight\")\n",
    "    df.to_csv(nm + \".csv\")\n",
    "    \n",
    "    return f"
   ]
  },
  {
   "cell_type": "code",
   "execution_count": null,
   "metadata": {
    "collapsed": false
   },
   "outputs": [],
   "source": [
    "f = plot(times, \"regression_tree\")"
   ]
  },
  {
   "cell_type": "code",
   "execution_count": null,
   "metadata": {
    "collapsed": false
   },
   "outputs": [],
   "source": [
    "f = plot(times, \"mean\")"
   ]
  },
  {
   "cell_type": "code",
   "execution_count": null,
   "metadata": {
    "collapsed": false
   },
   "outputs": [],
   "source": [
    "f = plot(times, \"hot_deck\")"
   ]
  }
 ],
 "metadata": {
  "anaconda-cloud": {},
  "kernelspec": {
   "display_name": "Python [default]",
   "language": "python",
   "name": "python3"
  },
  "language_info": {
   "codemirror_mode": {
    "name": "ipython",
    "version": 3
   },
   "file_extension": ".py",
   "mimetype": "text/x-python",
   "name": "python",
   "nbconvert_exporter": "python",
   "pygments_lexer": "ipython3",
   "version": "3.5.2"
  }
 },
 "nbformat": 4,
 "nbformat_minor": 2
}
