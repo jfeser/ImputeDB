{
 "cells": [
  {
   "cell_type": "code",
   "execution_count": 1,
   "metadata": {
    "collapsed": false
   },
   "outputs": [
    {
     "data": {
      "application/javascript": [
       "IPython.notebook.set_autosave_interval(0)"
      ]
     },
     "metadata": {},
     "output_type": "display_data"
    },
    {
     "name": "stdout",
     "output_type": "stream",
     "text": [
      "Autosave disabled\n"
     ]
    }
   ],
   "source": [
    "%autosave 0\n",
    "from datetime import date\n",
    "import os"
   ]
  },
  {
   "cell_type": "code",
   "execution_count": 2,
   "metadata": {
    "collapsed": false
   },
   "outputs": [],
   "source": [
    "import funcy\n",
    "import pandas as pd\n",
    "import numpy as np\n",
    "import seaborn as sns\n",
    "import matplotlib\n",
    "import matplotlib.pyplot as plt\n",
    "%matplotlib inline\n",
    "plt.style.use(['seaborn-white', 'seaborn-paper'])\n",
    "matplotlib.rc(\"font\", size=22)"
   ]
  },
  {
   "cell_type": "code",
   "execution_count": 3,
   "metadata": {
    "collapsed": false
   },
   "outputs": [
    {
     "name": "stdout",
     "output_type": "stream",
     "text": [
      "counts_mean_pct.tex\t\tplanning_times_imputedb.csv\r\n",
      "counts_mean.tex\t\t\trunning_times_base_tables_1.csv\r\n",
      "counts_std.tex\t\t\trunning_times_base_tables.csv\r\n",
      "perf_summary.tex\t\trunning_times_imputedb_1.csv\r\n",
      "planning_times_base_tables.csv\trunning_times_imputedb.csv\r\n"
     ]
    }
   ],
   "source": [
    "!ls output/mean/analysis"
   ]
  },
  {
   "cell_type": "code",
   "execution_count": 4,
   "metadata": {
    "collapsed": false
   },
   "outputs": [],
   "source": [
    "# Load data\n",
    "def load_data(kind, name, subdir=\"\"):\n",
    "    df = pd.read_csv(os.path.join(\"output\", subdir, \"{}_{}_1.csv\".format(kind, name)), index_col=0)\n",
    "    return df\n",
    "\n",
    "nqueries = 9\n",
    "times = {}\n",
    "for method in [\"mean\", \"hot_deck\", \"regression_tree\"]:\n",
    "    subdir = os.path.join(method, \"analysis\")\n",
    "    times[method] = {}\n",
    "    for scale in [\"imputedb\", \"base_tables\"]:\n",
    "        times[method][scale] = load_data(\"running_times\", scale, subdir)\n",
    "        \n",
    "    times[method][\"combined\"] = times[method][\"base_tables\"].append(times[method][\"imputedb\"])"
   ]
  },
  {
   "cell_type": "code",
   "execution_count": 5,
   "metadata": {
    "collapsed": true
   },
   "outputs": [],
   "source": [
    "# Round alpha to nearest 0.05\n",
    "def round_alpha(alpha):\n",
    "    if alpha == \"Impute at base tables\":\n",
    "        return \"Impute at base tables\"\n",
    "    else:\n",
    "        return round(alpha * 100 / 5) / (100 / 5)\n",
    "    \n",
    "for method in [\"mean\", \"hot_deck\", \"regression_tree\"]:\n",
    "    for scale in [\"imputedb\", \"base_tables\", \"combined\"]:\n",
    "        times[method][scale][\"alpha\"] = times[method][scale][\"alpha\"].apply(round_alpha)"
   ]
  },
  {
   "cell_type": "code",
   "execution_count": 6,
   "metadata": {
    "collapsed": false
   },
   "outputs": [
    {
     "data": {
      "text/html": [
       "<div>\n",
       "<table border=\"1\" class=\"dataframe\">\n",
       "  <thead>\n",
       "    <tr style=\"text-align: right;\">\n",
       "      <th></th>\n",
       "      <th>query</th>\n",
       "      <th>alpha</th>\n",
       "      <th>mean</th>\n",
       "      <th>std</th>\n",
       "    </tr>\n",
       "  </thead>\n",
       "  <tbody>\n",
       "    <tr>\n",
       "      <th>0</th>\n",
       "      <td>0.0</td>\n",
       "      <td>Impute at base tables</td>\n",
       "      <td>24935.606818</td>\n",
       "      <td>5549.724521</td>\n",
       "    </tr>\n",
       "    <tr>\n",
       "      <th>1</th>\n",
       "      <td>1.0</td>\n",
       "      <td>Impute at base tables</td>\n",
       "      <td>6553.513636</td>\n",
       "      <td>50.731587</td>\n",
       "    </tr>\n",
       "    <tr>\n",
       "      <th>2</th>\n",
       "      <td>2.0</td>\n",
       "      <td>Impute at base tables</td>\n",
       "      <td>10650.927273</td>\n",
       "      <td>49.561771</td>\n",
       "    </tr>\n",
       "    <tr>\n",
       "      <th>3</th>\n",
       "      <td>3.0</td>\n",
       "      <td>Impute at base tables</td>\n",
       "      <td>10652.572727</td>\n",
       "      <td>58.008496</td>\n",
       "    </tr>\n",
       "    <tr>\n",
       "      <th>4</th>\n",
       "      <td>4.0</td>\n",
       "      <td>Impute at base tables</td>\n",
       "      <td>10646.022727</td>\n",
       "      <td>51.340162</td>\n",
       "    </tr>\n",
       "  </tbody>\n",
       "</table>\n",
       "</div>"
      ],
      "text/plain": [
       "   query                  alpha          mean          std\n",
       "0    0.0  Impute at base tables  24935.606818  5549.724521\n",
       "1    1.0  Impute at base tables   6553.513636    50.731587\n",
       "2    2.0  Impute at base tables  10650.927273    49.561771\n",
       "3    3.0  Impute at base tables  10652.572727    58.008496\n",
       "4    4.0  Impute at base tables  10646.022727    51.340162"
      ]
     },
     "execution_count": 6,
     "metadata": {},
     "output_type": "execute_result"
    }
   ],
   "source": [
    "times[\"regression_tree\"][\"base_tables\"].head()"
   ]
  },
  {
   "cell_type": "code",
   "execution_count": 7,
   "metadata": {
    "collapsed": false
   },
   "outputs": [
    {
     "data": {
      "text/html": [
       "<div>\n",
       "<table border=\"1\" class=\"dataframe\">\n",
       "  <thead>\n",
       "    <tr style=\"text-align: right;\">\n",
       "      <th></th>\n",
       "      <th>query</th>\n",
       "      <th>alpha</th>\n",
       "      <th>mean</th>\n",
       "      <th>std</th>\n",
       "    </tr>\n",
       "  </thead>\n",
       "  <tbody>\n",
       "    <tr>\n",
       "      <th>0</th>\n",
       "      <td>0.0</td>\n",
       "      <td>0.0</td>\n",
       "      <td>708.127273</td>\n",
       "      <td>312.209595</td>\n",
       "    </tr>\n",
       "    <tr>\n",
       "      <th>1</th>\n",
       "      <td>0.0</td>\n",
       "      <td>0.5</td>\n",
       "      <td>324.595455</td>\n",
       "      <td>150.178299</td>\n",
       "    </tr>\n",
       "    <tr>\n",
       "      <th>2</th>\n",
       "      <td>0.0</td>\n",
       "      <td>1.0</td>\n",
       "      <td>18.636364</td>\n",
       "      <td>5.430828</td>\n",
       "    </tr>\n",
       "    <tr>\n",
       "      <th>3</th>\n",
       "      <td>1.0</td>\n",
       "      <td>0.0</td>\n",
       "      <td>556.231818</td>\n",
       "      <td>11.419997</td>\n",
       "    </tr>\n",
       "    <tr>\n",
       "      <th>4</th>\n",
       "      <td>1.0</td>\n",
       "      <td>0.5</td>\n",
       "      <td>94.227273</td>\n",
       "      <td>2.738726</td>\n",
       "    </tr>\n",
       "  </tbody>\n",
       "</table>\n",
       "</div>"
      ],
      "text/plain": [
       "   query  alpha        mean         std\n",
       "0    0.0    0.0  708.127273  312.209595\n",
       "1    0.0    0.5  324.595455  150.178299\n",
       "2    0.0    1.0   18.636364    5.430828\n",
       "3    1.0    0.0  556.231818   11.419997\n",
       "4    1.0    0.5   94.227273    2.738726"
      ]
     },
     "execution_count": 7,
     "metadata": {},
     "output_type": "execute_result"
    }
   ],
   "source": [
    "times[\"regression_tree\"][\"imputedb\"].head()"
   ]
  },
  {
   "cell_type": "code",
   "execution_count": 8,
   "metadata": {
    "collapsed": false
   },
   "outputs": [],
   "source": [
    "def plot(times, method):\n",
    "    df = times[method][\"combined\"].copy()\n",
    "    kind = \"running_times\"\n",
    "    name = \"combined\"\n",
    "    \n",
    "    # plots\n",
    "    xticks = range(0, nqueries)\n",
    "    xlabels = [\"%i\" % (q + 1) for q in xticks]\n",
    "    \n",
    "    f = plt.figure()\n",
    "\n",
    "    df = df.pivot(index=\"query\",columns=\"alpha\",values=\"mean\")\n",
    "    df = df[[\"Impute at base tables\",0.0,0.5,1.0]]\n",
    "    df = df.rename(columns={\n",
    "        0.0: r\"$\\alpha = 0.0$\",\n",
    "        0.5: r\"$\\alpha = 0.5$\",\n",
    "        1.0: r\"$\\alpha=1.0$\",\n",
    "        \"Impute at base tables\" : \"Baseline\"\n",
    "    })\n",
    "    ax = df.plot(kind=\"bar\")\n",
    "    ax.set_yscale(\"log\")\n",
    "    ax.set_ylim(bottom=0.99, top=10e5-0.1)\n",
    "    ax.legend(title=None, loc=\"upper left\", fontsize=14, ncol=2)\n",
    "    ax.title.set_fontsize(16)\n",
    "\n",
    "    xticks = range(0, len(df))\n",
    "    xlabels = [\"%i\" % (q + 1) for q in xticks]\n",
    "    plt.xlim(xticks[0] - 1, xticks[-1] + 1)\n",
    "    plt.xticks(xticks, xlabels, rotation=0)\n",
    "\n",
    "    plt.xlabel(\"Query\")\n",
    "    plt.ylabel(\"Running Time (ms)\")\n",
    "\n",
    "    for item in ([ax.xaxis.label, ax.yaxis.label] +\n",
    "                 ax.get_xticklabels() + ax.get_yticklabels()):\n",
    "        item.set_fontsize(12)\n",
    "\n",
    "    dt = date.today().isoformat()\n",
    "    nm = os.path.join(\"output/{}\".format(method), \"{}_{}_bar_{}_{}\".format(kind, name, method, dt))\n",
    "    \n",
    "    normal_params = {\"bbox_inches\": \"tight\", \"dpi\": 1200}\n",
    "    plot_list = [\n",
    "        (\".png\", normal_params),\n",
    "        (\"_transparent.png\", funcy.merge(normal_params, {\"transparent\": True})),\n",
    "        (\".eps\", normal_params),\n",
    "    ]\n",
    "    for suffix, params in plot_list:\n",
    "        plt.savefig(nm + suffix, **params)\n",
    "    df.to_csv(nm + \".csv\")\n",
    "    \n",
    "    return f"
   ]
  },
  {
   "cell_type": "code",
   "execution_count": 9,
   "metadata": {
    "collapsed": false
   },
   "outputs": [
    {
     "data": {
      "text/plain": [
       "<matplotlib.figure.Figure at 0x7f9c2c470668>"
      ]
     },
     "metadata": {},
     "output_type": "display_data"
    },
    {
     "data": {
      "image/png": "[encoded data removed]",
      "text/plain": [
       "<matplotlib.figure.Figure at 0x7f9c2c470ef0>"
      ]
     },
     "metadata": {},
     "output_type": "display_data"
    }
   ],
   "source": [
    "f = plot(times, \"regression_tree\")"
   ]
  },
  {
   "cell_type": "code",
   "execution_count": 10,
   "metadata": {
    "collapsed": false
   },
   "outputs": [
    {
     "data": {
      "text/plain": [
       "<matplotlib.figure.Figure at 0x7f9c16e685f8>"
      ]
     },
     "metadata": {},
     "output_type": "display_data"
    },
    {
     "data": {
      "image/png": "[encoded data removed]",
      "text/plain": [
       "<matplotlib.figure.Figure at 0x7f9c1f379630>"
      ]
     },
     "metadata": {},
     "output_type": "display_data"
    }
   ],
   "source": [
    "f = plot(times, \"mean\")"
   ]
  },
  {
   "cell_type": "code",
   "execution_count": 11,
   "metadata": {
    "collapsed": false
   },
   "outputs": [
    {
     "data": {
      "text/plain": [
       "<matplotlib.figure.Figure at 0x7f9c1f5e5208>"
      ]
     },
     "metadata": {},
     "output_type": "display_data"
    },
    {
     "data": {
      "image/png": "[encoded data removed]",
      "text/plain": [
       "<matplotlib.figure.Figure at 0x7f9c1fb2f2e8>"
      ]
     },
     "metadata": {},
     "output_type": "display_data"
    }
   ],
   "source": [
    "f = plot(times, \"hot_deck\")"
   ]
  }
 ],
 "metadata": {
  "anaconda-cloud": {},
  "kernelspec": {
   "display_name": "Python [default]",
   "language": "python",
   "name": "python3"
  },
  "language_info": {
   "codemirror_mode": {
    "name": "ipython",
    "version": 3
   },
   "file_extension": ".py",
   "mimetype": "text/x-python",
   "name": "python",
   "nbconvert_exporter": "python",
   "pygments_lexer": "ipython3",
   "version": "3.5.2"
  }
 },
 "nbformat": 4,
 "nbformat_minor": 2
}
